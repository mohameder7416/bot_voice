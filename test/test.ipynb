{
 "cells": [
  {
   "cell_type": "code",
   "execution_count": 1,
   "metadata": {},
   "outputs": [],
   "source": [
    "import pandas"
   ]
  },
  {
   "cell_type": "code",
   "execution_count": null,
   "metadata": {},
   "outputs": [],
   "source": [
    "import datetime as dt\n",
    "import jwt\n",
    "import requests\n",
    "from datetime import timezone  # Import timezone\n",
    "secret_key = \"Qt2eSu9Rljopn7uv3m5ZlY74P5dZWTIYMMP7kJL4JYrKSeW6QgcoWlIXYy74IrTW\"\n",
    "\n",
    "def create_token():\n",
    "    module_name='bot'\n",
    "    payload = {\n",
    "        \"iss\": module_name,  # Issuer\n",
    "        \"iat\": dt.datetime.utcnow(),  # Issued At\n",
    "        \"exp\": dt.datetime.utcnow() + dt.timedelta(minutes=2),  # Expiration\n",
    "        \"nbf\": dt.datetime.utcnow(),  # Not Before\n",
    "        \"jti\": module_name,  # JWT ID\n",
    "        \"sub\": module_name  # Subject\n",
    "    }\n",
    "\n",
    "    # Encode the JWT\n",
    "    token = jwt.encode(payload, secret_key, algorithm=\"HS256\")\n",
    "    print(\"Generated Token:\", token)  # Vérifiez qu'il ne contient pas de caractères non valides\n",
    "\n",
    "\n",
    "\n",
    "    # Set up headers with the JWT token\n",
    "    headers = {\n",
    "        \"Authorization\": f\"Bearer {token}\",\n",
    "        \"Content-Type\": \"application/json\",\n",
    "    }\n",
    "    print(\"headers\",headers)\n",
    "    return headers\n",
    "\n",
    "\n",
    "def get_product_info(make: str, model: str, dealer_id: int):\n",
    "    api_url = \"https://inventory-luma.addstaging.com/api/v2/internal/vehicles/listing\"\n",
    "    headers = create_token()\n",
    "    filters = [[\"make\", \"=\", make]]\n",
    "    if model:\n",
    "        filters.append([\"model\", \"=\", model])\n",
    "\n",
    "    data = {\n",
    "        \"user_id\": dealer_id,\n",
    "        \"status\": \"published\",\n",
    "        \"filters\": filters,\n",
    "        \"fields\": [\"year\", \"make\", \"model\", \"mileage\", \"price\", \"factory_color\", \"serial_number\",\"carfax_url\"]\n",
    "    }\n",
    "\n",
    "    try:\n",
    "        response = requests.get(api_url, json=data, headers=headers)\n",
    "\n",
    "        print(f\"Response Status Code: {response.status_code}\")\n",
    "        print(f\"Response Headers: {response.headers}\")\n",
    "        print(f\"Response Body: {response.text}\")\n",
    "\n",
    "        return response.json().get(\"data\", [])\n",
    "    except requests.RequestException as e:\n",
    "        print(f\"Erreur lors de l'appel API : {e}\")\n",
    "        print(f\"Response: {e.response.text if e.response else 'No response'}\")\n",
    "        return []\n",
    "\n",
    "# Example usage\n",
    "\n",
    "\n",
    "\n",
    "make = \"\"\n",
    "model = \"\"\n",
    "dealer_id = 102324\n",
    "product_info = get_product_info(make, model, dealer_id)\n",
    "print(product_info)"
   ]
  },
  {
   "cell_type": "code",
   "execution_count": 7,
   "metadata": {},
   "outputs": [],
   "source": [
    "import os\n",
    "from dotenv import load_dotenv\n",
    "load_dotenv()\n",
    "secret_key = os.getenv(\"secret_key\")\n",
    "import jwt\n",
    "import datetime as dt\n",
    "from datetime import timezone\n",
    "\n",
    "\n",
    "def create_token():\n",
    "    module_name='bot'\n",
    "    payload = {\n",
    "        \"iss\": module_name,  # Issuer\n",
    "        \"iat\": dt.datetime.utcnow(),  # Issued At\n",
    "        \"exp\": dt.datetime.utcnow() + dt.timedelta(minutes=2),  # Expiration\n",
    "        \"nbf\": dt.datetime.utcnow(),  # Not Before\n",
    "        \"jti\": module_name,  # JWT ID\n",
    "        \"sub\": module_name  # Subject\n",
    "    }\n",
    "\n",
    "    # Encode the JWT\n",
    "    token = jwt.encode(payload, secret_key, algorithm=\"HS256\")\n",
    "\n",
    "    # Set up headers with the JWT token\n",
    "    headers = {\n",
    "        \"Authorization\": f\"Bearer {token}\",\n",
    "        \"Content-Type\": \"application/json\",\n",
    "    }\n",
    "    return headers"
   ]
  },
  {
   "cell_type": "code",
   "execution_count": null,
   "metadata": {},
   "outputs": [],
   "source": [
    "time_url = f\"{PWA_CRM_API_URL}/task/availability?user_id={dealer_id}\"\n",
    "headers=create_token()\n",
    "r = requests.get(time_url, headers=headers)"
   ]
  },
  {
   "cell_type": "code",
   "execution_count": 1,
   "metadata": {},
   "outputs": [],
   "source": [
    "import os\n",
    "import jwt\n",
    "import datetime as dt\n",
    "import requests\n",
    "from dotenv import load_dotenv\n",
    "\n",
    "load_dotenv()\n",
    "\n",
    "# Load environment variables\n",
    "secret_key = os.getenv(\"secret_key\")\n",
    "PWA_CRM_API_URL = os.getenv(\"PWA_CRM_API_URL\")\n",
    "\n",
    "def create_token():\n",
    "    module_name = 'bot'\n",
    "    payload = {\n",
    "        \"iss\": module_name,\n",
    "        \"iat\": dt.datetime.utcnow(),\n",
    "        \"exp\": dt.datetime.utcnow() + dt.timedelta(minutes=2),\n",
    "        \"nbf\": dt.datetime.utcnow(),\n",
    "        \"jti\": module_name,\n",
    "        \"sub\": module_name\n",
    "    }\n",
    "    \n",
    "    token = jwt.encode(payload, secret_key, algorithm=\"HS256\")\n",
    "    headers = {\n",
    "        \"Authorization\": f\"Bearer {token}\",\n",
    "        \"Content-Type\": \"application/json\",\n",
    "    }\n",
    "    return headers\n",
    "\n",
    "def get_availability(dealer_id):\n",
    "    if not PWA_CRM_API_URL:\n",
    "        raise ValueError(\"PWA_CRM_API_URL is not set in environment variables\")\n",
    "    \n",
    "    time_url = f\"{PWA_CRM_API_URL}/task/availability?user_id={dealer_id}\"\n",
    "    headers = create_token()\n",
    "    \n",
    "    response = requests.get(time_url, headers=headers)\n",
    "    return response\n"
   ]
  },
  {
   "cell_type": "code",
   "execution_count": 2,
   "metadata": {},
   "outputs": [
    {
     "name": "stdout",
     "output_type": "stream",
     "text": [
      "{'result': [{'date': '2025-03-20', 'hours': [{'start': '10:00 AM', 'end': '10:30 AM', 'agent_ids': [0, 1515, 1545]}, {'start': '10:30 AM', 'end': '11:00 AM', 'agent_ids': [0, 1515, 1545]}, {'start': '11:00 AM', 'end': '11:30 AM', 'agent_ids': [0, 1515, 1545]}, {'start': '11:30 AM', 'end': '12:00 PM', 'agent_ids': [0, 1515, 1545]}, {'start': '01:00 PM', 'end': '01:30 PM', 'agent_ids': [0, 1515, 1545]}, {'start': '01:30 PM', 'end': '02:00 PM', 'agent_ids': [0, 1515, 1545]}, {'start': '02:00 PM', 'end': '02:30 PM', 'agent_ids': [0, 1515, 1545]}, {'start': '02:30 PM', 'end': '03:00 PM', 'agent_ids': [0, 1515, 1545]}, {'start': '03:00 PM', 'end': '03:30 PM', 'agent_ids': [0, 1515, 1545]}, {'start': '03:30 PM', 'end': '04:00 PM', 'agent_ids': [0, 1515, 1545]}, {'start': '04:00 PM', 'end': '04:30 PM', 'agent_ids': [0, 1515, 1545]}, {'start': '04:30 PM', 'end': '05:00 PM', 'agent_ids': [0, 1515, 1545]}]}, {'date': '2025-03-21', 'hours': [{'start': '10:00 AM', 'end': '10:30 AM', 'agent_ids': [0, 1515, 1545]}, {'start': '10:30 AM', 'end': '11:00 AM', 'agent_ids': [0, 1515, 1545]}, {'start': '11:00 AM', 'end': '11:30 AM', 'agent_ids': [0, 1515, 1545]}, {'start': '11:30 AM', 'end': '12:00 PM', 'agent_ids': [0, 1515, 1545]}, {'start': '01:00 PM', 'end': '01:30 PM', 'agent_ids': [0, 1515, 1545]}, {'start': '01:30 PM', 'end': '02:00 PM', 'agent_ids': [0, 1515, 1545]}, {'start': '02:00 PM', 'end': '02:30 PM', 'agent_ids': [0, 1515, 1545]}, {'start': '02:30 PM', 'end': '03:00 PM', 'agent_ids': [0, 1515, 1545]}, {'start': '03:00 PM', 'end': '03:30 PM', 'agent_ids': [0, 1515, 1545]}, {'start': '03:30 PM', 'end': '04:00 PM', 'agent_ids': [0, 1515, 1545]}, {'start': '04:00 PM', 'end': '04:30 PM', 'agent_ids': [0, 1515, 1545]}, {'start': '04:30 PM', 'end': '05:00 PM', 'agent_ids': [0, 1515, 1545]}]}, {'date': '2025-03-22', 'hours': [{'start': '08:00 AM', 'end': '08:30 AM', 'agent_ids': [0, 1515, 1545]}, {'start': '08:30 AM', 'end': '09:00 AM', 'agent_ids': [0, 1515, 1545]}, {'start': '09:00 AM', 'end': '09:30 AM', 'agent_ids': [0, 1515, 1545]}, {'start': '09:30 AM', 'end': '10:00 AM', 'agent_ids': [0, 1515, 1545]}, {'start': '10:00 AM', 'end': '10:30 AM', 'agent_ids': [0, 1515, 1545]}, {'start': '10:30 AM', 'end': '11:00 AM', 'agent_ids': [0, 1515, 1545]}, {'start': '11:00 AM', 'end': '11:30 AM', 'agent_ids': [0, 1515, 1545]}, {'start': '11:30 AM', 'end': '12:00 PM', 'agent_ids': [0, 1515, 1545]}, {'start': '01:00 PM', 'end': '01:30 PM', 'agent_ids': [0, 1515, 1545]}, {'start': '01:30 PM', 'end': '02:00 PM', 'agent_ids': [0, 1515, 1545]}, {'start': '02:00 PM', 'end': '02:30 PM', 'agent_ids': [0, 1515, 1545]}, {'start': '02:30 PM', 'end': '03:00 PM', 'agent_ids': [0, 1515, 1545]}, {'start': '03:00 PM', 'end': '03:30 PM', 'agent_ids': [0, 1515, 1545]}, {'start': '03:30 PM', 'end': '04:00 PM', 'agent_ids': [0, 1515, 1545]}, {'start': '04:00 PM', 'end': '04:30 PM', 'agent_ids': [0, 1515, 1545]}, {'start': '04:30 PM', 'end': '05:00 PM', 'agent_ids': [0, 1515, 1545]}, {'start': '05:00 PM', 'end': '05:30 PM', 'agent_ids': [0, 1515, 1545]}]}, {'date': '2025-03-23', 'hours': []}, {'date': '2025-03-24', 'hours': [{'start': '10:00 AM', 'end': '10:30 AM', 'agent_ids': [0, 1515, 1545]}, {'start': '10:30 AM', 'end': '11:00 AM', 'agent_ids': [0, 1515, 1545]}, {'start': '11:00 AM', 'end': '11:30 AM', 'agent_ids': [0, 1515, 1545]}, {'start': '11:30 AM', 'end': '12:00 PM', 'agent_ids': [0, 1515, 1545]}, {'start': '01:00 PM', 'end': '01:30 PM', 'agent_ids': [0, 1515, 1545]}, {'start': '01:30 PM', 'end': '02:00 PM', 'agent_ids': [0, 1515, 1545]}, {'start': '02:00 PM', 'end': '02:30 PM', 'agent_ids': [0, 1515, 1545]}, {'start': '02:30 PM', 'end': '03:00 PM', 'agent_ids': [0, 1515, 1545]}, {'start': '03:00 PM', 'end': '03:30 PM', 'agent_ids': [0, 1515, 1545]}, {'start': '03:30 PM', 'end': '04:00 PM', 'agent_ids': [0, 1515, 1545]}, {'start': '04:00 PM', 'end': '04:30 PM', 'agent_ids': [0, 1515, 1545]}, {'start': '04:30 PM', 'end': '05:00 PM', 'agent_ids': [0, 1515, 1545]}]}, {'date': '2025-03-25', 'hours': [{'start': '10:00 AM', 'end': '10:30 AM', 'agent_ids': [0, 1515, 1545]}, {'start': '10:30 AM', 'end': '11:00 AM', 'agent_ids': [0, 1515, 1545]}, {'start': '11:00 AM', 'end': '11:30 AM', 'agent_ids': [0, 1515, 1545]}, {'start': '11:30 AM', 'end': '12:00 PM', 'agent_ids': [0, 1515, 1545]}, {'start': '01:00 PM', 'end': '01:30 PM', 'agent_ids': [0, 1515, 1545]}, {'start': '01:30 PM', 'end': '02:00 PM', 'agent_ids': [0, 1515, 1545]}, {'start': '02:00 PM', 'end': '02:30 PM', 'agent_ids': [0, 1515, 1545]}, {'start': '02:30 PM', 'end': '03:00 PM', 'agent_ids': [0, 1515, 1545]}, {'start': '03:00 PM', 'end': '03:30 PM', 'agent_ids': [0, 1515, 1545]}, {'start': '03:30 PM', 'end': '04:00 PM', 'agent_ids': [0, 1515, 1545]}, {'start': '04:00 PM', 'end': '04:30 PM', 'agent_ids': [0, 1515, 1545]}, {'start': '04:30 PM', 'end': '05:00 PM', 'agent_ids': [0, 1515, 1545]}]}, {'date': '2025-03-26', 'hours': [{'start': '10:00 AM', 'end': '10:30 AM', 'agent_ids': [0, 1515, 1545]}, {'start': '10:30 AM', 'end': '11:00 AM', 'agent_ids': [0, 1515, 1545]}, {'start': '11:00 AM', 'end': '11:30 AM', 'agent_ids': [0, 1515, 1545]}, {'start': '11:30 AM', 'end': '12:00 PM', 'agent_ids': [0, 1515, 1545]}, {'start': '01:00 PM', 'end': '01:30 PM', 'agent_ids': [0, 1515, 1545]}, {'start': '01:30 PM', 'end': '02:00 PM', 'agent_ids': [0, 1515, 1545]}, {'start': '02:00 PM', 'end': '02:30 PM', 'agent_ids': [0, 1515, 1545]}, {'start': '02:30 PM', 'end': '03:00 PM', 'agent_ids': [0, 1515, 1545]}, {'start': '03:00 PM', 'end': '03:30 PM', 'agent_ids': [0, 1515, 1545]}, {'start': '03:30 PM', 'end': '04:00 PM', 'agent_ids': [0, 1515, 1545]}, {'start': '04:00 PM', 'end': '04:30 PM', 'agent_ids': [0, 1515, 1545]}, {'start': '04:30 PM', 'end': '05:00 PM', 'agent_ids': [0, 1515, 1545]}]}, {'date': '2025-03-27', 'hours': [{'start': '10:00 AM', 'end': '10:30 AM', 'agent_ids': [0, 1515, 1545]}, {'start': '10:30 AM', 'end': '11:00 AM', 'agent_ids': [0, 1515, 1545]}, {'start': '11:00 AM', 'end': '11:30 AM', 'agent_ids': [0, 1515, 1545]}, {'start': '11:30 AM', 'end': '12:00 PM', 'agent_ids': [0, 1515, 1545]}, {'start': '01:00 PM', 'end': '01:30 PM', 'agent_ids': [0, 1515, 1545]}, {'start': '01:30 PM', 'end': '02:00 PM', 'agent_ids': [0, 1515, 1545]}, {'start': '02:00 PM', 'end': '02:30 PM', 'agent_ids': [0, 1515, 1545]}, {'start': '02:30 PM', 'end': '03:00 PM', 'agent_ids': [0, 1515, 1545]}, {'start': '03:00 PM', 'end': '03:30 PM', 'agent_ids': [0, 1515, 1545]}, {'start': '03:30 PM', 'end': '04:00 PM', 'agent_ids': [0, 1515, 1545]}, {'start': '04:00 PM', 'end': '04:30 PM', 'agent_ids': [0, 1515, 1545]}, {'start': '04:30 PM', 'end': '05:00 PM', 'agent_ids': [0, 1515, 1545]}]}, {'date': '2025-03-28', 'hours': [{'start': '10:00 AM', 'end': '10:30 AM', 'agent_ids': [0, 1515, 1545]}, {'start': '10:30 AM', 'end': '11:00 AM', 'agent_ids': [0, 1515, 1545]}, {'start': '11:00 AM', 'end': '11:30 AM', 'agent_ids': [0, 1515, 1545]}, {'start': '11:30 AM', 'end': '12:00 PM', 'agent_ids': [0, 1515, 1545]}, {'start': '01:00 PM', 'end': '01:30 PM', 'agent_ids': [0, 1515, 1545]}, {'start': '01:30 PM', 'end': '02:00 PM', 'agent_ids': [0, 1515, 1545]}, {'start': '02:00 PM', 'end': '02:30 PM', 'agent_ids': [0, 1515, 1545]}, {'start': '02:30 PM', 'end': '03:00 PM', 'agent_ids': [0, 1515, 1545]}, {'start': '03:00 PM', 'end': '03:30 PM', 'agent_ids': [0, 1515, 1545]}, {'start': '03:30 PM', 'end': '04:00 PM', 'agent_ids': [0, 1515, 1545]}, {'start': '04:00 PM', 'end': '04:30 PM', 'agent_ids': [0, 1515, 1545]}, {'start': '04:30 PM', 'end': '05:00 PM', 'agent_ids': [0, 1515, 1545]}]}, {'date': '2025-03-29', 'hours': [{'start': '08:00 AM', 'end': '08:30 AM', 'agent_ids': [0, 1515, 1545]}, {'start': '08:30 AM', 'end': '09:00 AM', 'agent_ids': [0, 1515, 1545]}, {'start': '09:00 AM', 'end': '09:30 AM', 'agent_ids': [0, 1515, 1545]}, {'start': '09:30 AM', 'end': '10:00 AM', 'agent_ids': [0, 1515, 1545]}, {'start': '10:00 AM', 'end': '10:30 AM', 'agent_ids': [0, 1515, 1545]}, {'start': '10:30 AM', 'end': '11:00 AM', 'agent_ids': [0, 1515, 1545]}, {'start': '11:00 AM', 'end': '11:30 AM', 'agent_ids': [0, 1515, 1545]}, {'start': '11:30 AM', 'end': '12:00 PM', 'agent_ids': [0, 1515, 1545]}, {'start': '01:00 PM', 'end': '01:30 PM', 'agent_ids': [0, 1515, 1545]}, {'start': '01:30 PM', 'end': '02:00 PM', 'agent_ids': [0, 1515, 1545]}, {'start': '02:00 PM', 'end': '02:30 PM', 'agent_ids': [0, 1515, 1545]}, {'start': '02:30 PM', 'end': '03:00 PM', 'agent_ids': [0, 1515, 1545]}, {'start': '03:00 PM', 'end': '03:30 PM', 'agent_ids': [0, 1515, 1545]}, {'start': '03:30 PM', 'end': '04:00 PM', 'agent_ids': [0, 1515, 1545]}, {'start': '04:00 PM', 'end': '04:30 PM', 'agent_ids': [0, 1515, 1545]}, {'start': '04:30 PM', 'end': '05:00 PM', 'agent_ids': [0, 1515, 1545]}, {'start': '05:00 PM', 'end': '05:30 PM', 'agent_ids': [0, 1515, 1545]}]}, {'date': '2025-03-30', 'hours': []}, {'date': '2025-03-31', 'hours': [{'start': '10:00 AM', 'end': '10:30 AM', 'agent_ids': [0, 1515, 1545]}, {'start': '10:30 AM', 'end': '11:00 AM', 'agent_ids': [0, 1515, 1545]}, {'start': '11:00 AM', 'end': '11:30 AM', 'agent_ids': [0, 1515, 1545]}, {'start': '11:30 AM', 'end': '12:00 PM', 'agent_ids': [0, 1515, 1545]}, {'start': '01:00 PM', 'end': '01:30 PM', 'agent_ids': [0, 1515, 1545]}, {'start': '01:30 PM', 'end': '02:00 PM', 'agent_ids': [0, 1515, 1545]}, {'start': '02:00 PM', 'end': '02:30 PM', 'agent_ids': [0, 1515, 1545]}, {'start': '02:30 PM', 'end': '03:00 PM', 'agent_ids': [0, 1515, 1545]}, {'start': '03:00 PM', 'end': '03:30 PM', 'agent_ids': [0, 1515, 1545]}, {'start': '03:30 PM', 'end': '04:00 PM', 'agent_ids': [0, 1515, 1545]}, {'start': '04:00 PM', 'end': '04:30 PM', 'agent_ids': [0, 1515, 1545]}, {'start': '04:30 PM', 'end': '05:00 PM', 'agent_ids': [0, 1515, 1545]}]}, {'date': '2025-04-01', 'hours': [{'start': '10:00 AM', 'end': '10:30 AM', 'agent_ids': [0, 1515, 1545]}, {'start': '10:30 AM', 'end': '11:00 AM', 'agent_ids': [0, 1515, 1545]}, {'start': '11:00 AM', 'end': '11:30 AM', 'agent_ids': [0, 1515, 1545]}, {'start': '11:30 AM', 'end': '12:00 PM', 'agent_ids': [0, 1515, 1545]}, {'start': '01:00 PM', 'end': '01:30 PM', 'agent_ids': [0, 1515, 1545]}, {'start': '01:30 PM', 'end': '02:00 PM', 'agent_ids': [0, 1515, 1545]}, {'start': '02:00 PM', 'end': '02:30 PM', 'agent_ids': [0, 1515, 1545]}, {'start': '02:30 PM', 'end': '03:00 PM', 'agent_ids': [0, 1515, 1545]}, {'start': '03:00 PM', 'end': '03:30 PM', 'agent_ids': [0, 1515, 1545]}, {'start': '03:30 PM', 'end': '04:00 PM', 'agent_ids': [0, 1515, 1545]}, {'start': '04:00 PM', 'end': '04:30 PM', 'agent_ids': [0, 1515, 1545]}, {'start': '04:30 PM', 'end': '05:00 PM', 'agent_ids': [0, 1515, 1545]}]}, {'date': '2025-04-02', 'hours': [{'start': '10:00 AM', 'end': '10:30 AM', 'agent_ids': [0, 1515, 1545]}, {'start': '10:30 AM', 'end': '11:00 AM', 'agent_ids': [0, 1515, 1545]}, {'start': '11:00 AM', 'end': '11:30 AM', 'agent_ids': [0, 1515, 1545]}, {'start': '11:30 AM', 'end': '12:00 PM', 'agent_ids': [0, 1515, 1545]}, {'start': '01:00 PM', 'end': '01:30 PM', 'agent_ids': [0, 1515, 1545]}, {'start': '01:30 PM', 'end': '02:00 PM', 'agent_ids': [0, 1515, 1545]}, {'start': '02:00 PM', 'end': '02:30 PM', 'agent_ids': [0, 1515, 1545]}, {'start': '02:30 PM', 'end': '03:00 PM', 'agent_ids': [0, 1515, 1545]}, {'start': '03:00 PM', 'end': '03:30 PM', 'agent_ids': [0, 1515, 1545]}, {'start': '03:30 PM', 'end': '04:00 PM', 'agent_ids': [0, 1515, 1545]}, {'start': '04:00 PM', 'end': '04:30 PM', 'agent_ids': [0, 1515, 1545]}, {'start': '04:30 PM', 'end': '05:00 PM', 'agent_ids': [0, 1515, 1545]}]}, {'date': '2025-04-03', 'hours': [{'start': '10:00 AM', 'end': '10:30 AM', 'agent_ids': [0, 1515, 1545]}, {'start': '10:30 AM', 'end': '11:00 AM', 'agent_ids': [0, 1515, 1545]}, {'start': '11:00 AM', 'end': '11:30 AM', 'agent_ids': [0, 1515, 1545]}, {'start': '11:30 AM', 'end': '12:00 PM', 'agent_ids': [0, 1515, 1545]}, {'start': '01:00 PM', 'end': '01:30 PM', 'agent_ids': [0, 1515, 1545]}, {'start': '01:30 PM', 'end': '02:00 PM', 'agent_ids': [0, 1515, 1545]}, {'start': '02:00 PM', 'end': '02:30 PM', 'agent_ids': [0, 1515, 1545]}, {'start': '02:30 PM', 'end': '03:00 PM', 'agent_ids': [0, 1515, 1545]}, {'start': '03:00 PM', 'end': '03:30 PM', 'agent_ids': [0, 1515, 1545]}, {'start': '03:30 PM', 'end': '04:00 PM', 'agent_ids': [0, 1515, 1545]}, {'start': '04:00 PM', 'end': '04:30 PM', 'agent_ids': [0, 1515, 1545]}, {'start': '04:30 PM', 'end': '05:00 PM', 'agent_ids': [0, 1515, 1545]}]}, {'date': '2025-04-04', 'hours': [{'start': '10:00 AM', 'end': '10:30 AM', 'agent_ids': [0, 1515, 1545]}, {'start': '10:30 AM', 'end': '11:00 AM', 'agent_ids': [0, 1515, 1545]}, {'start': '11:00 AM', 'end': '11:30 AM', 'agent_ids': [0, 1515, 1545]}, {'start': '11:30 AM', 'end': '12:00 PM', 'agent_ids': [0, 1515, 1545]}, {'start': '01:00 PM', 'end': '01:30 PM', 'agent_ids': [0, 1515, 1545]}, {'start': '01:30 PM', 'end': '02:00 PM', 'agent_ids': [0, 1515, 1545]}, {'start': '02:00 PM', 'end': '02:30 PM', 'agent_ids': [0, 1515, 1545]}, {'start': '02:30 PM', 'end': '03:00 PM', 'agent_ids': [0, 1515, 1545]}, {'start': '03:00 PM', 'end': '03:30 PM', 'agent_ids': [0, 1515, 1545]}, {'start': '03:30 PM', 'end': '04:00 PM', 'agent_ids': [0, 1515, 1545]}, {'start': '04:00 PM', 'end': '04:30 PM', 'agent_ids': [0, 1515, 1545]}, {'start': '04:30 PM', 'end': '05:00 PM', 'agent_ids': [0, 1515, 1545]}]}, {'date': '2025-04-05', 'hours': [{'start': '08:00 AM', 'end': '08:30 AM', 'agent_ids': [0, 1515, 1545]}, {'start': '08:30 AM', 'end': '09:00 AM', 'agent_ids': [0, 1515, 1545]}, {'start': '09:00 AM', 'end': '09:30 AM', 'agent_ids': [0, 1515, 1545]}, {'start': '09:30 AM', 'end': '10:00 AM', 'agent_ids': [0, 1515, 1545]}, {'start': '10:00 AM', 'end': '10:30 AM', 'agent_ids': [0, 1515, 1545]}, {'start': '10:30 AM', 'end': '11:00 AM', 'agent_ids': [0, 1515, 1545]}, {'start': '11:00 AM', 'end': '11:30 AM', 'agent_ids': [0, 1515, 1545]}, {'start': '11:30 AM', 'end': '12:00 PM', 'agent_ids': [0, 1515, 1545]}, {'start': '01:00 PM', 'end': '01:30 PM', 'agent_ids': [0, 1515, 1545]}, {'start': '01:30 PM', 'end': '02:00 PM', 'agent_ids': [0, 1515, 1545]}, {'start': '02:00 PM', 'end': '02:30 PM', 'agent_ids': [0, 1515, 1545]}, {'start': '02:30 PM', 'end': '03:00 PM', 'agent_ids': [0, 1515, 1545]}, {'start': '03:00 PM', 'end': '03:30 PM', 'agent_ids': [0, 1515, 1545]}, {'start': '03:30 PM', 'end': '04:00 PM', 'agent_ids': [0, 1515, 1545]}, {'start': '04:00 PM', 'end': '04:30 PM', 'agent_ids': [0, 1515, 1545]}, {'start': '04:30 PM', 'end': '05:00 PM', 'agent_ids': [0, 1515, 1545]}, {'start': '05:00 PM', 'end': '05:30 PM', 'agent_ids': [0, 1515, 1545]}]}, {'date': '2025-04-06', 'hours': []}, {'date': '2025-04-07', 'hours': [{'start': '10:00 AM', 'end': '10:30 AM', 'agent_ids': [0, 1515, 1545]}, {'start': '10:30 AM', 'end': '11:00 AM', 'agent_ids': [0, 1515, 1545]}, {'start': '11:00 AM', 'end': '11:30 AM', 'agent_ids': [0, 1515, 1545]}, {'start': '11:30 AM', 'end': '12:00 PM', 'agent_ids': [0, 1515, 1545]}, {'start': '01:00 PM', 'end': '01:30 PM', 'agent_ids': [0, 1515, 1545]}, {'start': '01:30 PM', 'end': '02:00 PM', 'agent_ids': [0, 1515, 1545]}, {'start': '02:00 PM', 'end': '02:30 PM', 'agent_ids': [0, 1515, 1545]}, {'start': '02:30 PM', 'end': '03:00 PM', 'agent_ids': [0, 1515, 1545]}, {'start': '03:00 PM', 'end': '03:30 PM', 'agent_ids': [0, 1515, 1545]}, {'start': '03:30 PM', 'end': '04:00 PM', 'agent_ids': [0, 1515, 1545]}, {'start': '04:00 PM', 'end': '04:30 PM', 'agent_ids': [0, 1515, 1545]}, {'start': '04:30 PM', 'end': '05:00 PM', 'agent_ids': [0, 1515, 1545]}]}, {'date': '2025-04-08', 'hours': [{'start': '10:00 AM', 'end': '10:30 AM', 'agent_ids': [0, 1515, 1545]}, {'start': '10:30 AM', 'end': '11:00 AM', 'agent_ids': [0, 1515, 1545]}, {'start': '11:00 AM', 'end': '11:30 AM', 'agent_ids': [0, 1515, 1545]}, {'start': '11:30 AM', 'end': '12:00 PM', 'agent_ids': [0, 1515, 1545]}, {'start': '01:00 PM', 'end': '01:30 PM', 'agent_ids': [0, 1515, 1545]}, {'start': '01:30 PM', 'end': '02:00 PM', 'agent_ids': [0, 1515, 1545]}, {'start': '02:00 PM', 'end': '02:30 PM', 'agent_ids': [0, 1515, 1545]}, {'start': '02:30 PM', 'end': '03:00 PM', 'agent_ids': [0, 1515, 1545]}, {'start': '03:00 PM', 'end': '03:30 PM', 'agent_ids': [0, 1515, 1545]}, {'start': '03:30 PM', 'end': '04:00 PM', 'agent_ids': [0, 1515, 1545]}, {'start': '04:00 PM', 'end': '04:30 PM', 'agent_ids': [0, 1515, 1545]}, {'start': '04:30 PM', 'end': '05:00 PM', 'agent_ids': [0, 1515, 1545]}]}, {'date': '2025-04-09', 'hours': [{'start': '10:00 AM', 'end': '10:30 AM', 'agent_ids': [0, 1515, 1545]}, {'start': '10:30 AM', 'end': '11:00 AM', 'agent_ids': [0, 1515, 1545]}, {'start': '11:00 AM', 'end': '11:30 AM', 'agent_ids': [0, 1515, 1545]}, {'start': '11:30 AM', 'end': '12:00 PM', 'agent_ids': [0, 1515, 1545]}, {'start': '01:00 PM', 'end': '01:30 PM', 'agent_ids': [0, 1515, 1545]}, {'start': '01:30 PM', 'end': '02:00 PM', 'agent_ids': [0, 1515, 1545]}, {'start': '02:00 PM', 'end': '02:30 PM', 'agent_ids': [0, 1515, 1545]}, {'start': '02:30 PM', 'end': '03:00 PM', 'agent_ids': [0, 1515, 1545]}, {'start': '03:00 PM', 'end': '03:30 PM', 'agent_ids': [0, 1515, 1545]}, {'start': '03:30 PM', 'end': '04:00 PM', 'agent_ids': [0, 1515, 1545]}, {'start': '04:00 PM', 'end': '04:30 PM', 'agent_ids': [0, 1515, 1545]}, {'start': '04:30 PM', 'end': '05:00 PM', 'agent_ids': [0, 1515, 1545]}]}, {'date': '2025-04-10', 'hours': [{'start': '10:00 AM', 'end': '10:30 AM', 'agent_ids': [0, 1515, 1545]}, {'start': '10:30 AM', 'end': '11:00 AM', 'agent_ids': [0, 1515, 1545]}, {'start': '11:00 AM', 'end': '11:30 AM', 'agent_ids': [0, 1515, 1545]}, {'start': '11:30 AM', 'end': '12:00 PM', 'agent_ids': [0, 1515, 1545]}, {'start': '01:00 PM', 'end': '01:30 PM', 'agent_ids': [0, 1515, 1545]}, {'start': '01:30 PM', 'end': '02:00 PM', 'agent_ids': [0, 1515, 1545]}, {'start': '02:00 PM', 'end': '02:30 PM', 'agent_ids': [0, 1515, 1545]}, {'start': '02:30 PM', 'end': '03:00 PM', 'agent_ids': [0, 1515, 1545]}, {'start': '03:00 PM', 'end': '03:30 PM', 'agent_ids': [0, 1515, 1545]}, {'start': '03:30 PM', 'end': '04:00 PM', 'agent_ids': [0, 1515, 1545]}, {'start': '04:00 PM', 'end': '04:30 PM', 'agent_ids': [0, 1515, 1545]}, {'start': '04:30 PM', 'end': '05:00 PM', 'agent_ids': [0, 1515, 1545]}]}, {'date': '2025-04-11', 'hours': [{'start': '10:00 AM', 'end': '10:30 AM', 'agent_ids': [0, 1515, 1545]}, {'start': '10:30 AM', 'end': '11:00 AM', 'agent_ids': [0, 1515, 1545]}, {'start': '11:00 AM', 'end': '11:30 AM', 'agent_ids': [0, 1515, 1545]}, {'start': '11:30 AM', 'end': '12:00 PM', 'agent_ids': [0, 1515, 1545]}, {'start': '01:00 PM', 'end': '01:30 PM', 'agent_ids': [0, 1515, 1545]}, {'start': '01:30 PM', 'end': '02:00 PM', 'agent_ids': [0, 1515, 1545]}, {'start': '02:00 PM', 'end': '02:30 PM', 'agent_ids': [0, 1515, 1545]}, {'start': '02:30 PM', 'end': '03:00 PM', 'agent_ids': [0, 1515, 1545]}, {'start': '03:00 PM', 'end': '03:30 PM', 'agent_ids': [0, 1515, 1545]}, {'start': '03:30 PM', 'end': '04:00 PM', 'agent_ids': [0, 1515, 1545]}, {'start': '04:00 PM', 'end': '04:30 PM', 'agent_ids': [0, 1515, 1545]}, {'start': '04:30 PM', 'end': '05:00 PM', 'agent_ids': [0, 1515, 1545]}]}, {'date': '2025-04-12', 'hours': [{'start': '08:00 AM', 'end': '08:30 AM', 'agent_ids': [0, 1515, 1545]}, {'start': '08:30 AM', 'end': '09:00 AM', 'agent_ids': [0, 1515, 1545]}, {'start': '09:00 AM', 'end': '09:30 AM', 'agent_ids': [0, 1515, 1545]}, {'start': '09:30 AM', 'end': '10:00 AM', 'agent_ids': [0, 1515, 1545]}, {'start': '10:00 AM', 'end': '10:30 AM', 'agent_ids': [0, 1515, 1545]}, {'start': '10:30 AM', 'end': '11:00 AM', 'agent_ids': [0, 1515, 1545]}, {'start': '11:00 AM', 'end': '11:30 AM', 'agent_ids': [0, 1515, 1545]}, {'start': '11:30 AM', 'end': '12:00 PM', 'agent_ids': [0, 1515, 1545]}, {'start': '01:00 PM', 'end': '01:30 PM', 'agent_ids': [0, 1515, 1545]}, {'start': '01:30 PM', 'end': '02:00 PM', 'agent_ids': [0, 1515, 1545]}, {'start': '02:00 PM', 'end': '02:30 PM', 'agent_ids': [0, 1515, 1545]}, {'start': '02:30 PM', 'end': '03:00 PM', 'agent_ids': [0, 1515, 1545]}, {'start': '03:00 PM', 'end': '03:30 PM', 'agent_ids': [0, 1515, 1545]}, {'start': '03:30 PM', 'end': '04:00 PM', 'agent_ids': [0, 1515, 1545]}, {'start': '04:00 PM', 'end': '04:30 PM', 'agent_ids': [0, 1515, 1545]}, {'start': '04:30 PM', 'end': '05:00 PM', 'agent_ids': [0, 1515, 1545]}, {'start': '05:00 PM', 'end': '05:30 PM', 'agent_ids': [0, 1515, 1545]}]}, {'date': '2025-04-13', 'hours': []}, {'date': '2025-04-14', 'hours': [{'start': '10:00 AM', 'end': '10:30 AM', 'agent_ids': [0, 1515, 1545]}, {'start': '10:30 AM', 'end': '11:00 AM', 'agent_ids': [0, 1515, 1545]}, {'start': '11:00 AM', 'end': '11:30 AM', 'agent_ids': [0, 1515, 1545]}, {'start': '11:30 AM', 'end': '12:00 PM', 'agent_ids': [0, 1515, 1545]}, {'start': '01:00 PM', 'end': '01:30 PM', 'agent_ids': [0, 1515, 1545]}, {'start': '01:30 PM', 'end': '02:00 PM', 'agent_ids': [0, 1515, 1545]}, {'start': '02:00 PM', 'end': '02:30 PM', 'agent_ids': [0, 1515, 1545]}, {'start': '02:30 PM', 'end': '03:00 PM', 'agent_ids': [0, 1515, 1545]}, {'start': '03:00 PM', 'end': '03:30 PM', 'agent_ids': [0, 1515, 1545]}, {'start': '03:30 PM', 'end': '04:00 PM', 'agent_ids': [0, 1515, 1545]}, {'start': '04:00 PM', 'end': '04:30 PM', 'agent_ids': [0, 1515, 1545]}, {'start': '04:30 PM', 'end': '05:00 PM', 'agent_ids': [0, 1515, 1545]}]}, {'date': '2025-04-15', 'hours': [{'start': '10:00 AM', 'end': '10:30 AM', 'agent_ids': [0, 1515, 1545]}, {'start': '10:30 AM', 'end': '11:00 AM', 'agent_ids': [0, 1515, 1545]}, {'start': '11:00 AM', 'end': '11:30 AM', 'agent_ids': [0, 1515, 1545]}, {'start': '11:30 AM', 'end': '12:00 PM', 'agent_ids': [0, 1515, 1545]}, {'start': '01:00 PM', 'end': '01:30 PM', 'agent_ids': [0, 1515, 1545]}, {'start': '01:30 PM', 'end': '02:00 PM', 'agent_ids': [0, 1515, 1545]}, {'start': '02:00 PM', 'end': '02:30 PM', 'agent_ids': [0, 1515, 1545]}, {'start': '02:30 PM', 'end': '03:00 PM', 'agent_ids': [0, 1515, 1545]}, {'start': '03:00 PM', 'end': '03:30 PM', 'agent_ids': [0, 1515, 1545]}, {'start': '03:30 PM', 'end': '04:00 PM', 'agent_ids': [0, 1515, 1545]}, {'start': '04:00 PM', 'end': '04:30 PM', 'agent_ids': [0, 1515, 1545]}, {'start': '04:30 PM', 'end': '05:00 PM', 'agent_ids': [0, 1515, 1545]}]}, {'date': '2025-04-16', 'hours': [{'start': '10:00 AM', 'end': '10:30 AM', 'agent_ids': [0, 1515, 1545]}, {'start': '10:30 AM', 'end': '11:00 AM', 'agent_ids': [0, 1515, 1545]}, {'start': '11:00 AM', 'end': '11:30 AM', 'agent_ids': [0, 1515, 1545]}, {'start': '11:30 AM', 'end': '12:00 PM', 'agent_ids': [0, 1515, 1545]}, {'start': '01:00 PM', 'end': '01:30 PM', 'agent_ids': [0, 1515, 1545]}, {'start': '01:30 PM', 'end': '02:00 PM', 'agent_ids': [0, 1515, 1545]}, {'start': '02:00 PM', 'end': '02:30 PM', 'agent_ids': [0, 1515, 1545]}, {'start': '02:30 PM', 'end': '03:00 PM', 'agent_ids': [0, 1515, 1545]}, {'start': '03:00 PM', 'end': '03:30 PM', 'agent_ids': [0, 1515, 1545]}, {'start': '03:30 PM', 'end': '04:00 PM', 'agent_ids': [0, 1515, 1545]}, {'start': '04:00 PM', 'end': '04:30 PM', 'agent_ids': [0, 1515, 1545]}, {'start': '04:30 PM', 'end': '05:00 PM', 'agent_ids': [0, 1515, 1545]}]}, {'date': '2025-04-17', 'hours': [{'start': '10:00 AM', 'end': '10:30 AM', 'agent_ids': [0, 1515, 1545]}, {'start': '10:30 AM', 'end': '11:00 AM', 'agent_ids': [0, 1515, 1545]}, {'start': '11:00 AM', 'end': '11:30 AM', 'agent_ids': [0, 1515, 1545]}, {'start': '11:30 AM', 'end': '12:00 PM', 'agent_ids': [0, 1515, 1545]}, {'start': '01:00 PM', 'end': '01:30 PM', 'agent_ids': [0, 1515, 1545]}, {'start': '01:30 PM', 'end': '02:00 PM', 'agent_ids': [0, 1515, 1545]}, {'start': '02:00 PM', 'end': '02:30 PM', 'agent_ids': [0, 1515, 1545]}, {'start': '02:30 PM', 'end': '03:00 PM', 'agent_ids': [0, 1515, 1545]}, {'start': '03:00 PM', 'end': '03:30 PM', 'agent_ids': [0, 1515, 1545]}, {'start': '03:30 PM', 'end': '04:00 PM', 'agent_ids': [0, 1515, 1545]}, {'start': '04:00 PM', 'end': '04:30 PM', 'agent_ids': [0, 1515, 1545]}, {'start': '04:30 PM', 'end': '05:00 PM', 'agent_ids': [0, 1515, 1545]}]}, {'date': '2025-04-18', 'hours': [{'start': '10:00 AM', 'end': '10:30 AM', 'agent_ids': [0, 1515, 1545]}, {'start': '10:30 AM', 'end': '11:00 AM', 'agent_ids': [0, 1515, 1545]}, {'start': '11:00 AM', 'end': '11:30 AM', 'agent_ids': [0, 1515, 1545]}, {'start': '11:30 AM', 'end': '12:00 PM', 'agent_ids': [0, 1515, 1545]}, {'start': '01:00 PM', 'end': '01:30 PM', 'agent_ids': [0, 1515, 1545]}, {'start': '01:30 PM', 'end': '02:00 PM', 'agent_ids': [0, 1515, 1545]}, {'start': '02:00 PM', 'end': '02:30 PM', 'agent_ids': [0, 1515, 1545]}, {'start': '02:30 PM', 'end': '03:00 PM', 'agent_ids': [0, 1515, 1545]}, {'start': '03:00 PM', 'end': '03:30 PM', 'agent_ids': [0, 1515, 1545]}, {'start': '03:30 PM', 'end': '04:00 PM', 'agent_ids': [0, 1515, 1545]}, {'start': '04:00 PM', 'end': '04:30 PM', 'agent_ids': [0, 1515, 1545]}, {'start': '04:30 PM', 'end': '05:00 PM', 'agent_ids': [0, 1515, 1545]}]}], 'status': {'code': 200, 'type': 'success', 'message': 'Available slots fetched successfully'}}\n"
     ]
    }
   ],
   "source": [
    "get_availability(102324)\n",
    "response = get_availability(102324)\n",
    "print(response.json())  #"
   ]
  },
  {
   "cell_type": "code",
   "execution_count": null,
   "metadata": {},
   "outputs": [
    {
     "ename": "JSONDecodeError",
     "evalue": "Expecting value: line 1 column 1 (char 0)",
     "output_type": "error",
     "traceback": [
      "\u001b[0;31m---------------------------------------------------------------------------\u001b[0m",
      "\u001b[0;31mJSONDecodeError\u001b[0m                           Traceback (most recent call last)",
      "File \u001b[0;32m~/.local/lib/python3.10/site-packages/requests/models.py:974\u001b[0m, in \u001b[0;36mResponse.json\u001b[0;34m(self, **kwargs)\u001b[0m\n\u001b[1;32m    973\u001b[0m \u001b[38;5;28;01mtry\u001b[39;00m:\n\u001b[0;32m--> 974\u001b[0m     \u001b[38;5;28;01mreturn\u001b[39;00m \u001b[43mcomplexjson\u001b[49m\u001b[38;5;241;43m.\u001b[39;49m\u001b[43mloads\u001b[49m\u001b[43m(\u001b[49m\u001b[38;5;28;43mself\u001b[39;49m\u001b[38;5;241;43m.\u001b[39;49m\u001b[43mtext\u001b[49m\u001b[43m,\u001b[49m\u001b[43m \u001b[49m\u001b[38;5;241;43m*\u001b[39;49m\u001b[38;5;241;43m*\u001b[39;49m\u001b[43mkwargs\u001b[49m\u001b[43m)\u001b[49m\n\u001b[1;32m    975\u001b[0m \u001b[38;5;28;01mexcept\u001b[39;00m JSONDecodeError \u001b[38;5;28;01mas\u001b[39;00m e:\n\u001b[1;32m    976\u001b[0m     \u001b[38;5;66;03m# Catch JSON-related errors and raise as requests.JSONDecodeError\u001b[39;00m\n\u001b[1;32m    977\u001b[0m     \u001b[38;5;66;03m# This aliases json.JSONDecodeError and simplejson.JSONDecodeError\u001b[39;00m\n",
      "File \u001b[0;32m/usr/lib/python3.10/json/__init__.py:346\u001b[0m, in \u001b[0;36mloads\u001b[0;34m(s, cls, object_hook, parse_float, parse_int, parse_constant, object_pairs_hook, **kw)\u001b[0m\n\u001b[1;32m    343\u001b[0m \u001b[38;5;28;01mif\u001b[39;00m (\u001b[38;5;28mcls\u001b[39m \u001b[38;5;129;01mis\u001b[39;00m \u001b[38;5;28;01mNone\u001b[39;00m \u001b[38;5;129;01mand\u001b[39;00m object_hook \u001b[38;5;129;01mis\u001b[39;00m \u001b[38;5;28;01mNone\u001b[39;00m \u001b[38;5;129;01mand\u001b[39;00m\n\u001b[1;32m    344\u001b[0m         parse_int \u001b[38;5;129;01mis\u001b[39;00m \u001b[38;5;28;01mNone\u001b[39;00m \u001b[38;5;129;01mand\u001b[39;00m parse_float \u001b[38;5;129;01mis\u001b[39;00m \u001b[38;5;28;01mNone\u001b[39;00m \u001b[38;5;129;01mand\u001b[39;00m\n\u001b[1;32m    345\u001b[0m         parse_constant \u001b[38;5;129;01mis\u001b[39;00m \u001b[38;5;28;01mNone\u001b[39;00m \u001b[38;5;129;01mand\u001b[39;00m object_pairs_hook \u001b[38;5;129;01mis\u001b[39;00m \u001b[38;5;28;01mNone\u001b[39;00m \u001b[38;5;129;01mand\u001b[39;00m \u001b[38;5;129;01mnot\u001b[39;00m kw):\n\u001b[0;32m--> 346\u001b[0m     \u001b[38;5;28;01mreturn\u001b[39;00m \u001b[43m_default_decoder\u001b[49m\u001b[38;5;241;43m.\u001b[39;49m\u001b[43mdecode\u001b[49m\u001b[43m(\u001b[49m\u001b[43ms\u001b[49m\u001b[43m)\u001b[49m\n\u001b[1;32m    347\u001b[0m \u001b[38;5;28;01mif\u001b[39;00m \u001b[38;5;28mcls\u001b[39m \u001b[38;5;129;01mis\u001b[39;00m \u001b[38;5;28;01mNone\u001b[39;00m:\n",
      "File \u001b[0;32m/usr/lib/python3.10/json/decoder.py:337\u001b[0m, in \u001b[0;36mJSONDecoder.decode\u001b[0;34m(self, s, _w)\u001b[0m\n\u001b[1;32m    333\u001b[0m \u001b[38;5;250m\u001b[39m\u001b[38;5;124;03m\"\"\"Return the Python representation of ``s`` (a ``str`` instance\u001b[39;00m\n\u001b[1;32m    334\u001b[0m \u001b[38;5;124;03mcontaining a JSON document).\u001b[39;00m\n\u001b[1;32m    335\u001b[0m \n\u001b[1;32m    336\u001b[0m \u001b[38;5;124;03m\"\"\"\u001b[39;00m\n\u001b[0;32m--> 337\u001b[0m obj, end \u001b[38;5;241m=\u001b[39m \u001b[38;5;28;43mself\u001b[39;49m\u001b[38;5;241;43m.\u001b[39;49m\u001b[43mraw_decode\u001b[49m\u001b[43m(\u001b[49m\u001b[43ms\u001b[49m\u001b[43m,\u001b[49m\u001b[43m \u001b[49m\u001b[43midx\u001b[49m\u001b[38;5;241;43m=\u001b[39;49m\u001b[43m_w\u001b[49m\u001b[43m(\u001b[49m\u001b[43ms\u001b[49m\u001b[43m,\u001b[49m\u001b[43m \u001b[49m\u001b[38;5;241;43m0\u001b[39;49m\u001b[43m)\u001b[49m\u001b[38;5;241;43m.\u001b[39;49m\u001b[43mend\u001b[49m\u001b[43m(\u001b[49m\u001b[43m)\u001b[49m\u001b[43m)\u001b[49m\n\u001b[1;32m    338\u001b[0m end \u001b[38;5;241m=\u001b[39m _w(s, end)\u001b[38;5;241m.\u001b[39mend()\n",
      "File \u001b[0;32m/usr/lib/python3.10/json/decoder.py:355\u001b[0m, in \u001b[0;36mJSONDecoder.raw_decode\u001b[0;34m(self, s, idx)\u001b[0m\n\u001b[1;32m    354\u001b[0m \u001b[38;5;28;01mexcept\u001b[39;00m \u001b[38;5;167;01mStopIteration\u001b[39;00m \u001b[38;5;28;01mas\u001b[39;00m err:\n\u001b[0;32m--> 355\u001b[0m     \u001b[38;5;28;01mraise\u001b[39;00m JSONDecodeError(\u001b[38;5;124m\"\u001b[39m\u001b[38;5;124mExpecting value\u001b[39m\u001b[38;5;124m\"\u001b[39m, s, err\u001b[38;5;241m.\u001b[39mvalue) \u001b[38;5;28;01mfrom\u001b[39;00m\u001b[38;5;250m \u001b[39m\u001b[38;5;28;01mNone\u001b[39;00m\n\u001b[1;32m    356\u001b[0m \u001b[38;5;28;01mreturn\u001b[39;00m obj, end\n",
      "\u001b[0;31mJSONDecodeError\u001b[0m: Expecting value: line 1 column 1 (char 0)",
      "\nDuring handling of the above exception, another exception occurred:\n",
      "\u001b[0;31mJSONDecodeError\u001b[0m                           Traceback (most recent call last)",
      "Cell \u001b[0;32mIn[4], line 1\u001b[0m\n\u001b[0;32m----> 1\u001b[0m \u001b[38;5;28mprint\u001b[39m(\u001b[43mresponse\u001b[49m\u001b[38;5;241;43m.\u001b[39;49m\u001b[43mjson\u001b[49m\u001b[43m(\u001b[49m\u001b[43m)\u001b[49m)  \u001b[38;5;66;03m# If the response is in JSON format\u001b[39;00m\n",
      "File \u001b[0;32m~/.local/lib/python3.10/site-packages/requests/models.py:978\u001b[0m, in \u001b[0;36mResponse.json\u001b[0;34m(self, **kwargs)\u001b[0m\n\u001b[1;32m    974\u001b[0m     \u001b[38;5;28;01mreturn\u001b[39;00m complexjson\u001b[38;5;241m.\u001b[39mloads(\u001b[38;5;28mself\u001b[39m\u001b[38;5;241m.\u001b[39mtext, \u001b[38;5;241m*\u001b[39m\u001b[38;5;241m*\u001b[39mkwargs)\n\u001b[1;32m    975\u001b[0m \u001b[38;5;28;01mexcept\u001b[39;00m JSONDecodeError \u001b[38;5;28;01mas\u001b[39;00m e:\n\u001b[1;32m    976\u001b[0m     \u001b[38;5;66;03m# Catch JSON-related errors and raise as requests.JSONDecodeError\u001b[39;00m\n\u001b[1;32m    977\u001b[0m     \u001b[38;5;66;03m# This aliases json.JSONDecodeError and simplejson.JSONDecodeError\u001b[39;00m\n\u001b[0;32m--> 978\u001b[0m     \u001b[38;5;28;01mraise\u001b[39;00m RequestsJSONDecodeError(e\u001b[38;5;241m.\u001b[39mmsg, e\u001b[38;5;241m.\u001b[39mdoc, e\u001b[38;5;241m.\u001b[39mpos)\n",
      "\u001b[0;31mJSONDecodeError\u001b[0m: Expecting value: line 1 column 1 (char 0)"
     ]
    }
   ],
   "source": [
    "get_availability(102324)\n",
    "response = get_availability(102324)\n",
    "print(response.json())  #get_availability(102324)\n",
    "response = get_availability(102324)\n",
    "print(response.json())  #get_availability(102324)\n",
    "response = get_availability(102324)\n",
    "print(response.json())  #print(response.json())  # If the response is in JSON format\n"
   ]
  },
  {
   "cell_type": "code",
   "execution_count": 10,
   "metadata": {},
   "outputs": [],
   "source": [
    "def get_availability(dealer_id):\n",
    "    if not PWA_CRM_API_URL:\n",
    "        raise ValueError(\"PWA_CRM_API_URL is not set in environment variables\")\n",
    "    \n",
    "    time_url = f\"{PWA_CRM_API_URL}/task/availability?user_id={dealer_id}\"\n",
    "    headers = create_token()\n",
    "\n",
    "    \n",
    "    response = requests.get(time_url, headers=headers)\n",
    "    \n",
    "\n",
    "    \n",
    "    return response\n"
   ]
  },
  {
   "cell_type": "code",
   "execution_count": null,
   "metadata": {},
   "outputs": [],
   "source": [
    "get_availability(102324)\n",
    "response = get_availability(102324)\n",
    "print(response.json())  # If the response is in JSON format\n"
   ]
  },
  {
   "cell_type": "code",
   "execution_count": 8,
   "metadata": {},
   "outputs": [],
   "source": [
    "import datetime as dt\n",
    "from datetime import timezone\n",
    "import jwt"
   ]
  },
  {
   "cell_type": "code",
   "execution_count": 9,
   "metadata": {},
   "outputs": [],
   "source": [
    "def create_token():\n",
    "    module_name='bot'\n",
    "    payload = {\n",
    "        \"iss\": module_name,  # Issuer\n",
    "        \"iat\": dt.datetime.utcnow(),  # Issued At\n",
    "        \"exp\": dt.datetime.utcnow() + dt.timedelta(minutes=2),  # Expiration\n",
    "        \"nbf\": dt.datetime.utcnow(),  # Not Before\n",
    "        \"jti\": module_name,  # JWT ID\n",
    "        \"sub\": module_name  # Subject\n",
    "    }\n",
    "\n",
    "    # Encode the JWT\n",
    "    token = jwt.encode(payload, secret_key, algorithm=\"HS256\")\n",
    "\n",
    "    # Set up headers with the JWT token\n",
    "    headers = {\n",
    "        \"Authorization\": f\"Bearer {token}\",\n",
    "        \"Content-Type\": \"application/json\",\n",
    "    }\n",
    "    return headers"
   ]
  },
  {
   "cell_type": "code",
   "execution_count": 10,
   "metadata": {},
   "outputs": [
    {
     "ename": "NameError",
     "evalue": "name 'secret_key' is not defined",
     "output_type": "error",
     "traceback": [
      "\u001b[0;31m---------------------------------------------------------------------------\u001b[0m",
      "\u001b[0;31mNameError\u001b[0m                                 Traceback (most recent call last)",
      "Cell \u001b[0;32mIn[10], line 33\u001b[0m\n\u001b[1;32m     30\u001b[0m         \u001b[38;5;28mprint\u001b[39m(\u001b[38;5;124mf\u001b[39m\u001b[38;5;124m\"\u001b[39m\u001b[38;5;124mResponse text: \u001b[39m\u001b[38;5;132;01m{\u001b[39;00mresponse\u001b[38;5;241m.\u001b[39mtext\u001b[38;5;132;01m}\u001b[39;00m\u001b[38;5;124m\"\u001b[39m)\n\u001b[1;32m     31\u001b[0m         \u001b[38;5;28;01mreturn\u001b[39;00m \u001b[38;5;28;01mNone\u001b[39;00m\n\u001b[0;32m---> 33\u001b[0m response \u001b[38;5;241m=\u001b[39m \u001b[43mget_availability\u001b[49m\u001b[43m(\u001b[49m\u001b[38;5;241;43m102324\u001b[39;49m\u001b[43m)\u001b[49m\n\u001b[1;32m     35\u001b[0m \u001b[38;5;28;01mif\u001b[39;00m response:\n\u001b[1;32m     36\u001b[0m     \u001b[38;5;28mprint\u001b[39m(response)\n",
      "Cell \u001b[0;32mIn[10], line 12\u001b[0m, in \u001b[0;36mget_availability\u001b[0;34m(dealer_id)\u001b[0m\n\u001b[1;32m      9\u001b[0m     \u001b[38;5;28;01mraise\u001b[39;00m \u001b[38;5;167;01mValueError\u001b[39;00m(\u001b[38;5;124m\"\u001b[39m\u001b[38;5;124mPWA_CRM_API_URL is not set in environment variables\u001b[39m\u001b[38;5;124m\"\u001b[39m)\n\u001b[1;32m     11\u001b[0m time_url \u001b[38;5;241m=\u001b[39m \u001b[38;5;124mf\u001b[39m\u001b[38;5;124m\"\u001b[39m\u001b[38;5;132;01m{\u001b[39;00mPWA_CRM_API_URL\u001b[38;5;132;01m}\u001b[39;00m\u001b[38;5;124m/task/availability?user_id=\u001b[39m\u001b[38;5;132;01m{\u001b[39;00mdealer_id\u001b[38;5;132;01m}\u001b[39;00m\u001b[38;5;124m\"\u001b[39m\n\u001b[0;32m---> 12\u001b[0m headers \u001b[38;5;241m=\u001b[39m \u001b[43mcreate_token\u001b[49m\u001b[43m(\u001b[49m\u001b[43m)\u001b[49m\n\u001b[1;32m     14\u001b[0m \u001b[38;5;28;01mtry\u001b[39;00m:\n\u001b[1;32m     15\u001b[0m     response \u001b[38;5;241m=\u001b[39m requests\u001b[38;5;241m.\u001b[39mget(time_url, headers\u001b[38;5;241m=\u001b[39mheaders)\n",
      "Cell \u001b[0;32mIn[9], line 13\u001b[0m, in \u001b[0;36mcreate_token\u001b[0;34m()\u001b[0m\n\u001b[1;32m      3\u001b[0m payload \u001b[38;5;241m=\u001b[39m {\n\u001b[1;32m      4\u001b[0m     \u001b[38;5;124m\"\u001b[39m\u001b[38;5;124miss\u001b[39m\u001b[38;5;124m\"\u001b[39m: module_name,  \u001b[38;5;66;03m# Issuer\u001b[39;00m\n\u001b[1;32m      5\u001b[0m     \u001b[38;5;124m\"\u001b[39m\u001b[38;5;124miat\u001b[39m\u001b[38;5;124m\"\u001b[39m: dt\u001b[38;5;241m.\u001b[39mdatetime\u001b[38;5;241m.\u001b[39mutcnow(),  \u001b[38;5;66;03m# Issued At\u001b[39;00m\n\u001b[0;32m   (...)\u001b[0m\n\u001b[1;32m      9\u001b[0m     \u001b[38;5;124m\"\u001b[39m\u001b[38;5;124msub\u001b[39m\u001b[38;5;124m\"\u001b[39m: module_name  \u001b[38;5;66;03m# Subject\u001b[39;00m\n\u001b[1;32m     10\u001b[0m }\n\u001b[1;32m     12\u001b[0m \u001b[38;5;66;03m# Encode the JWT\u001b[39;00m\n\u001b[0;32m---> 13\u001b[0m token \u001b[38;5;241m=\u001b[39m jwt\u001b[38;5;241m.\u001b[39mencode(payload, \u001b[43msecret_key\u001b[49m, algorithm\u001b[38;5;241m=\u001b[39m\u001b[38;5;124m\"\u001b[39m\u001b[38;5;124mHS256\u001b[39m\u001b[38;5;124m\"\u001b[39m)\n\u001b[1;32m     15\u001b[0m \u001b[38;5;66;03m# Set up headers with the JWT token\u001b[39;00m\n\u001b[1;32m     16\u001b[0m headers \u001b[38;5;241m=\u001b[39m {\n\u001b[1;32m     17\u001b[0m     \u001b[38;5;124m\"\u001b[39m\u001b[38;5;124mAuthorization\u001b[39m\u001b[38;5;124m\"\u001b[39m: \u001b[38;5;124mf\u001b[39m\u001b[38;5;124m\"\u001b[39m\u001b[38;5;124mBearer \u001b[39m\u001b[38;5;132;01m{\u001b[39;00mtoken\u001b[38;5;132;01m}\u001b[39;00m\u001b[38;5;124m\"\u001b[39m,\n\u001b[1;32m     18\u001b[0m     \u001b[38;5;124m\"\u001b[39m\u001b[38;5;124mContent-Type\u001b[39m\u001b[38;5;124m\"\u001b[39m: \u001b[38;5;124m\"\u001b[39m\u001b[38;5;124mapplication/json\u001b[39m\u001b[38;5;124m\"\u001b[39m,\n\u001b[1;32m     19\u001b[0m }\n",
      "\u001b[0;31mNameError\u001b[0m: name 'secret_key' is not defined"
     ]
    }
   ],
   "source": [
    "import os\n",
    "import requests\n",
    "\n",
    "PWA_CRM_API_URL=\"https://crm-luma.addstaging.com/api/v2\"\n",
    "\n",
    "\n",
    "def get_availability(dealer_id):\n",
    "    if not PWA_CRM_API_URL:\n",
    "        raise ValueError(\"PWA_CRM_API_URL is not set in environment variables\")\n",
    "    \n",
    "    time_url = f\"{PWA_CRM_API_URL}/task/availability?user_id={dealer_id}\"\n",
    "    headers = create_token()\n",
    "\n",
    "    try:\n",
    "        response = requests.get(time_url, headers=headers)\n",
    "        \n",
    "        # Check if response is empty\n",
    "        if response.status_code != 200:\n",
    "            print(f\"Error: Received status code {response.status_code}\")\n",
    "            print(f\"Response text: {response.text}\")  # Print response to debug\n",
    "            return None\n",
    "\n",
    "        return response.json()  # Convert to JSON safely\n",
    "    \n",
    "    except requests.exceptions.RequestException as e:\n",
    "        print(f\"Request failed: {e}\")\n",
    "        return None\n",
    "    except ValueError:\n",
    "        print(\"Response is not in JSON format\")\n",
    "        print(f\"Response text: {response.text}\")\n",
    "        return None\n",
    "\n",
    "response = get_availability(102324)\n",
    "\n",
    "if response:\n",
    "    print(response)\n",
    "else:\n",
    "    print(\"No valid JSON response received.\")\n"
   ]
  }
 ],
 "metadata": {
  "kernelspec": {
   "display_name": "Python 3",
   "language": "python",
   "name": "python3"
  },
  "language_info": {
   "codemirror_mode": {
    "name": "ipython",
    "version": 3
   },
   "file_extension": ".py",
   "mimetype": "text/x-python",
   "name": "python",
   "nbconvert_exporter": "python",
   "pygments_lexer": "ipython3",
   "version": "3.10.12"
  }
 },
 "nbformat": 4,
 "nbformat_minor": 2
}
